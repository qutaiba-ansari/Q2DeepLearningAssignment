{
 "cells": [
  {
   "cell_type": "markdown",
   "metadata": {},
   "source": [
    "# Assignment: Ionosphere Data Problem\n",
    "\n",
    "### Dataset Description: \n",
    "\n",
    "This radar data was collected by a system in Goose Bay, Labrador. This system consists of a phased array of 16 high-frequency antennas with a total transmitted power on the order of 6.4 kilowatts. See the paper for more details. The targets were free electrons in the ionosphere. \"Good\" radar returns are those showing evidence of some type of structure in the ionosphere. \"Bad\" returns are those that do not; their signals pass through the ionosphere.\n",
    "\n",
    "Received signals were processed using an autocorrelation function whose arguments are the time of a pulse and the pulse number. There were 17 pulse numbers for the Goose Bay system. Instances in this databse are described by 2 attributes per pulse number, corresponding to the complex values returned by the function resulting from the complex electromagnetic signal.\n",
    "\n",
    "### Attribute Information:\n",
    "\n",
    "- All 34 are continuous\n",
    "- The 35th attribute is either \"good\" or \"bad\" according to the definition summarized above. This is a binary classification task.\n",
    "\n",
    " <br><br>\n",
    "\n",
    "<table border=\"1\"  cellpadding=\"6\">\n",
    "\t<tbody>\n",
    "        <tr>\n",
    "\t\t<td bgcolor=\"#DDEEFF\"><p class=\"normal\"><b>Data Set Characteristics:&nbsp;&nbsp;</b></p></td>\n",
    "\t\t<td><p class=\"normal\">Multivariate</p></td>\n",
    "\t\t<td bgcolor=\"#DDEEFF\"><p class=\"normal\"><b>Number of Instances:</b></p></td>\n",
    "\t\t<td><p class=\"normal\">351</p></td>\n",
    "\t\t<td bgcolor=\"#DDEEFF\"><p class=\"normal\"><b>Area:</b></p></td>\n",
    "\t\t<td><p class=\"normal\">Physical</p></td>\n",
    "        </tr>\n",
    "     </tbody>\n",
    "    </table>\n",
    "<table border=\"1\" cellpadding=\"6\">\n",
    "    <tbody>\n",
    "        <tr>\n",
    "            <td bgcolor=\"#DDEEFF\"><p class=\"normal\"><b>Attribute Characteristics:</b></p></td>\n",
    "            <td><p class=\"normal\">Integer,Real</p></td>\n",
    "            <td bgcolor=\"#DDEEFF\"><p class=\"normal\"><b>Number of Attributes:</b></p></td>\n",
    "            <td><p class=\"normal\">34</p></td>\n",
    "            <td bgcolor=\"#DDEEFF\"><p class=\"normal\"><b>Date Donated</b></p></td>\n",
    "            <td><p class=\"normal\">N/A</p></td>\n",
    "        </tr>\n",
    "     </tbody>\n",
    "    </table>\n",
    "<table border=\"1\" cellpadding=\"6\">\t\n",
    "    <tbody>\n",
    "    <tr>\n",
    "\t\t<td bgcolor=\"#DDEEFF\"><p class=\"normal\"><b>Associated Tasks:</b></p></td>\n",
    "\t\t<td><p class=\"normal\">Classification</p></td>\n",
    "\t\t<td bgcolor=\"#DDEEFF\"><p class=\"normal\"><b>Missing Values?</b></p></td>\n",
    "\t\t<td><p class=\"normal\">N/A</p></td>\n",
    "\t\t<td bgcolor=\"#DDEEFF\"><p class=\"normal\"><b>Number of Web Hits:</b></p></td>\n",
    "\t\t<td><p class=\"normal\">N/A</p></td>\n",
    "\t</tr>\n",
    "    </tbody>\n",
    "    </table>"
   ]
  },
  {
   "cell_type": "markdown",
   "metadata": {},
   "source": [
    "### WORKFLOW :\n",
    "- Load Data\n",
    "- Check Missing Values ( If Exist ; Fill each record with mean of its feature ) or any usless column.\n",
    "- Shuffle the data if needed.\n",
    "- Standardized the Input Variables. **Hint**: Centeralized the data\n",
    "- Split into 60 and 40 ratio.\n",
    "- Encode labels.\n",
    "- Model : 1 hidden layers including 16 unit.\n",
    "- Compilation Step (Note : Its a Binary problem , select loss , metrics according to it)\n",
    "- Train the Model with Epochs (100).\n",
    "- If the model gets overfit tune your model by changing the units , No. of layers , epochs , add dropout layer or add Regularizer according to the need .\n",
    "- Prediction should be > **92%**\n",
    "- Evaluation Step\n",
    "- Prediction\n"
   ]
  },
  {
   "cell_type": "markdown",
   "metadata": {},
   "source": [
    "# Load Data:\n",
    "[Click Here to Download DataSet](https://github.com/ramsha275/ML_Datasets/blob/main/ionosphere_data.csv)"
   ]
  },
  {
   "cell_type": "code",
   "execution_count": 1,
   "metadata": {},
   "outputs": [],
   "source": [
    "import pandas as pd\n",
    "import numpy as np\n",
    "import tensorflow as tf\n",
    "import matplotlib.pyplot as plt"
   ]
  },
  {
   "cell_type": "code",
   "execution_count": 2,
   "metadata": {},
   "outputs": [],
   "source": [
    "data= pd.read_csv('ionosphere_data.csv')"
   ]
  },
  {
   "cell_type": "code",
   "execution_count": 3,
   "metadata": {},
   "outputs": [
    {
     "data": {
      "text/plain": [
       "feature1       0\n",
       "feature2       0\n",
       "feature3    -1.0\n",
       "feature4    -1.0\n",
       "feature5     1.0\n",
       "feature6     1.0\n",
       "feature7     1.0\n",
       "feature8    -1.0\n",
       "feature9    -1.0\n",
       "feature10    1.0\n",
       "feature11    1.0\n",
       "feature12   -1.0\n",
       "feature13   -1.0\n",
       "feature14   -1.0\n",
       "feature15    0.0\n",
       "feature16    0.0\n",
       "feature17    1.0\n",
       "feature18    1.0\n",
       "feature19   -1.0\n",
       "feature20   -1.0\n",
       "feature21    1.0\n",
       "feature22   -1.0\n",
       "feature23    1.0\n",
       "feature24   -1.0\n",
       "feature25    1.0\n",
       "feature26    1.0\n",
       "feature27    1.0\n",
       "feature28   -1.0\n",
       "feature29    1.0\n",
       "feature30   -1.0\n",
       "feature31   -1.0\n",
       "feature32    1.0\n",
       "feature33    1.0\n",
       "feature34   -1.0\n",
       "label          b\n",
       "Name: 29, dtype: object"
      ]
     },
     "execution_count": 3,
     "metadata": {},
     "output_type": "execute_result"
    }
   ],
   "source": [
    "data.iloc[29,]"
   ]
  },
  {
   "cell_type": "markdown",
   "metadata": {},
   "source": [
    "### Check Missing Values "
   ]
  },
  {
   "cell_type": "code",
   "execution_count": 4,
   "metadata": {},
   "outputs": [
    {
     "data": {
      "text/plain": [
       "False"
      ]
     },
     "execution_count": 4,
     "metadata": {},
     "output_type": "execute_result"
    }
   ],
   "source": [
    "data.isnull().values.any()"
   ]
  },
  {
   "cell_type": "markdown",
   "metadata": {},
   "source": [
    "### Standardized the Input Variables"
   ]
  },
  {
   "cell_type": "code",
   "execution_count": 5,
   "metadata": {},
   "outputs": [],
   "source": [
    "from sklearn.preprocessing import LabelEncoder\n",
    "labelencoder = LabelEncoder()\n",
    "data['label'] = labelencoder.fit_transform(data['label'])"
   ]
  },
  {
   "cell_type": "code",
   "execution_count": 6,
   "metadata": {},
   "outputs": [],
   "source": [
    "x = (data.loc[:, data.columns != 'label'])\n",
    "y = (data.loc[:, data.columns == 'label'])"
   ]
  },
  {
   "cell_type": "code",
   "execution_count": 7,
   "metadata": {},
   "outputs": [],
   "source": [
    "# data standardization with  sklearn\n",
    "from sklearn.preprocessing import StandardScaler\n",
    "\n",
    "x=x.copy()\n",
    "\n",
    "# numerical features\n",
    "num_cols = ['feature1', 'feature2', 'feature3', 'feature4', 'feature5', 'feature6',\n",
    "       'feature7', 'feature8', 'feature9', 'feature10', 'feature11',\n",
    "       'feature12', 'feature13', 'feature14', 'feature15', 'feature16',\n",
    "       'feature17', 'feature18', 'feature19', 'feature20', 'feature21',\n",
    "       'feature22', 'feature23', 'feature24', 'feature25', 'feature26',\n",
    "       'feature27', 'feature28', 'feature29', 'feature30', 'feature31',\n",
    "       'feature32', 'feature33', 'feature34']\n",
    "# apply standardization on numerical features\n",
    "for i in num_cols:\n",
    "    \n",
    "    # fit on training data column\n",
    "    scale = StandardScaler().fit(x[[i]])\n",
    "    \n",
    "    # transform the training data column\n",
    "    x[i] = scale.transform(x[[i]])"
   ]
  },
  {
   "cell_type": "markdown",
   "metadata": {},
   "source": [
    "### Split Data"
   ]
  },
  {
   "cell_type": "code",
   "execution_count": 8,
   "metadata": {},
   "outputs": [],
   "source": [
    "from sklearn.model_selection import train_test_split\n",
    "x_train, x_test, y_train, y_test = train_test_split(x, y, test_size=0.40, random_state=0)"
   ]
  },
  {
   "cell_type": "code",
   "execution_count": 9,
   "metadata": {},
   "outputs": [
    {
     "data": {
      "text/plain": [
       "(210, 34)"
      ]
     },
     "execution_count": 9,
     "metadata": {},
     "output_type": "execute_result"
    }
   ],
   "source": [
    "x_train.shape"
   ]
  },
  {
   "cell_type": "code",
   "execution_count": 10,
   "metadata": {},
   "outputs": [
    {
     "data": {
      "text/plain": [
       "(210, 1)"
      ]
     },
     "execution_count": 10,
     "metadata": {},
     "output_type": "execute_result"
    }
   ],
   "source": [
    "y_train.shape"
   ]
  },
  {
   "cell_type": "code",
   "execution_count": 11,
   "metadata": {},
   "outputs": [],
   "source": [
    "x_val = x_train[:42]\n",
    "partial_x_train = x_train[42:]"
   ]
  },
  {
   "cell_type": "code",
   "execution_count": 12,
   "metadata": {},
   "outputs": [],
   "source": [
    "y_val = y_train[:42]\n",
    "partial_y_train = y_train[42:]"
   ]
  },
  {
   "cell_type": "code",
   "execution_count": 13,
   "metadata": {},
   "outputs": [
    {
     "data": {
      "text/plain": [
       "(168, 1)"
      ]
     },
     "execution_count": 13,
     "metadata": {},
     "output_type": "execute_result"
    }
   ],
   "source": [
    "partial_y_train.shape"
   ]
  },
  {
   "cell_type": "markdown",
   "metadata": {},
   "source": [
    "### Model"
   ]
  },
  {
   "cell_type": "code",
   "execution_count": 186,
   "metadata": {},
   "outputs": [],
   "source": [
    "from keras import models\n",
    "from keras import layers\n",
    "def build_model():\n",
    "    model = models.Sequential()\n",
    "    model.add(layers.Dense(16, activation='relu', input_dim=34))\n",
    "\n",
    "    model.add(layers.Dense(1, activation='sigmoid'))\n",
    "\n",
    "    model.compile(optimizer='adam',loss='binary_crossentropy',metrics=['accuracy'])\n",
    "    return model"
   ]
  },
  {
   "cell_type": "code",
   "execution_count": 190,
   "metadata": {},
   "outputs": [
    {
     "name": "stdout",
     "output_type": "stream",
     "text": [
      "Epoch 1/90\n",
      "14/14 [==============================] - 0s 9ms/step - loss: 0.8816 - accuracy: 0.3571\n",
      "Epoch 2/90\n",
      "14/14 [==============================] - 0s 5ms/step - loss: 0.7194 - accuracy: 0.5905\n",
      "Epoch 3/90\n",
      "14/14 [==============================] - 0s 3ms/step - loss: 0.6007 - accuracy: 0.6714\n",
      "Epoch 4/90\n",
      "14/14 [==============================] - 0s 3ms/step - loss: 0.5236 - accuracy: 0.7524\n",
      "Epoch 5/90\n",
      "14/14 [==============================] - 0s 5ms/step - loss: 0.4683 - accuracy: 0.8143\n",
      "Epoch 6/90\n",
      "14/14 [==============================] - 0s 3ms/step - loss: 0.4270 - accuracy: 0.8571\n",
      "Epoch 7/90\n",
      "14/14 [==============================] - 0s 5ms/step - loss: 0.3979 - accuracy: 0.8667: 0s - loss: 0.3961 - accuracy: 0.86\n",
      "Epoch 8/90\n",
      "14/14 [==============================] - 0s 3ms/step - loss: 0.3765 - accuracy: 0.8714\n",
      "Epoch 9/90\n",
      "14/14 [==============================] - 0s 4ms/step - loss: 0.3565 - accuracy: 0.8762\n",
      "Epoch 10/90\n",
      "14/14 [==============================] - 0s 3ms/step - loss: 0.3408 - accuracy: 0.8905\n",
      "Epoch 11/90\n",
      "14/14 [==============================] - 0s 3ms/step - loss: 0.3276 - accuracy: 0.8905\n",
      "Epoch 12/90\n",
      "14/14 [==============================] - 0s 3ms/step - loss: 0.3162 - accuracy: 0.8905\n",
      "Epoch 13/90\n",
      "14/14 [==============================] - 0s 6ms/step - loss: 0.3071 - accuracy: 0.8905\n",
      "Epoch 14/90\n",
      "14/14 [==============================] - 0s 3ms/step - loss: 0.2974 - accuracy: 0.8952\n",
      "Epoch 15/90\n",
      "14/14 [==============================] - 0s 6ms/step - loss: 0.2883 - accuracy: 0.9048\n",
      "Epoch 16/90\n",
      "14/14 [==============================] - 0s 3ms/step - loss: 0.2799 - accuracy: 0.8952\n",
      "Epoch 17/90\n",
      "14/14 [==============================] - 0s 5ms/step - loss: 0.2726 - accuracy: 0.9000\n",
      "Epoch 18/90\n",
      "14/14 [==============================] - 0s 3ms/step - loss: 0.2663 - accuracy: 0.9000\n",
      "Epoch 19/90\n",
      "14/14 [==============================] - 0s 3ms/step - loss: 0.2597 - accuracy: 0.9048\n",
      "Epoch 20/90\n",
      "14/14 [==============================] - 0s 4ms/step - loss: 0.2536 - accuracy: 0.9190\n",
      "Epoch 21/90\n",
      "14/14 [==============================] - 0s 3ms/step - loss: 0.2475 - accuracy: 0.9238\n",
      "Epoch 22/90\n",
      "14/14 [==============================] - 0s 3ms/step - loss: 0.2423 - accuracy: 0.9238\n",
      "Epoch 23/90\n",
      "14/14 [==============================] - 0s 4ms/step - loss: 0.2371 - accuracy: 0.9381\n",
      "Epoch 24/90\n",
      "14/14 [==============================] - 0s 3ms/step - loss: 0.2320 - accuracy: 0.9381\n",
      "Epoch 25/90\n",
      "14/14 [==============================] - ETA: 0s - loss: 0.1179 - accuracy: 1.00 - 0s 4ms/step - loss: 0.2268 - accuracy: 0.9333\n",
      "Epoch 26/90\n",
      "14/14 [==============================] - 0s 3ms/step - loss: 0.2223 - accuracy: 0.9333\n",
      "Epoch 27/90\n",
      "14/14 [==============================] - 0s 4ms/step - loss: 0.2179 - accuracy: 0.9333\n",
      "Epoch 28/90\n",
      "14/14 [==============================] - 0s 3ms/step - loss: 0.2128 - accuracy: 0.9381\n",
      "Epoch 29/90\n",
      "14/14 [==============================] - 0s 3ms/step - loss: 0.2083 - accuracy: 0.9429\n",
      "Epoch 30/90\n",
      "14/14 [==============================] - 0s 3ms/step - loss: 0.2043 - accuracy: 0.9476\n",
      "Epoch 31/90\n",
      "14/14 [==============================] - 0s 3ms/step - loss: 0.2000 - accuracy: 0.9429\n",
      "Epoch 32/90\n",
      "14/14 [==============================] - 0s 6ms/step - loss: 0.1960 - accuracy: 0.9429\n",
      "Epoch 33/90\n",
      "14/14 [==============================] - 0s 6ms/step - loss: 0.1920 - accuracy: 0.9429\n",
      "Epoch 34/90\n",
      "14/14 [==============================] - 0s 5ms/step - loss: 0.1884 - accuracy: 0.9429\n",
      "Epoch 35/90\n",
      "14/14 [==============================] - 0s 3ms/step - loss: 0.1848 - accuracy: 0.9429\n",
      "Epoch 36/90\n",
      "14/14 [==============================] - 0s 4ms/step - loss: 0.1812 - accuracy: 0.9429\n",
      "Epoch 37/90\n",
      "14/14 [==============================] - 0s 5ms/step - loss: 0.1772 - accuracy: 0.9429\n",
      "Epoch 38/90\n",
      "14/14 [==============================] - 0s 3ms/step - loss: 0.1741 - accuracy: 0.9429\n",
      "Epoch 39/90\n",
      "14/14 [==============================] - 0s 5ms/step - loss: 0.1711 - accuracy: 0.9476\n",
      "Epoch 40/90\n",
      "14/14 [==============================] - 0s 3ms/step - loss: 0.1685 - accuracy: 0.9476\n",
      "Epoch 41/90\n",
      "14/14 [==============================] - 0s 3ms/step - loss: 0.1642 - accuracy: 0.9476\n",
      "Epoch 42/90\n",
      "14/14 [==============================] - 0s 3ms/step - loss: 0.1607 - accuracy: 0.9476\n",
      "Epoch 43/90\n",
      "14/14 [==============================] - 0s 3ms/step - loss: 0.1579 - accuracy: 0.9476\n",
      "Epoch 44/90\n",
      "14/14 [==============================] - ETA: 0s - loss: 0.3283 - accuracy: 0.81 - 0s 3ms/step - loss: 0.1551 - accuracy: 0.9476\n",
      "Epoch 45/90\n",
      "14/14 [==============================] - 0s 3ms/step - loss: 0.1520 - accuracy: 0.9476\n",
      "Epoch 46/90\n",
      "14/14 [==============================] - 0s 7ms/step - loss: 0.1494 - accuracy: 0.9476\n",
      "Epoch 47/90\n",
      "14/14 [==============================] - 0s 7ms/step - loss: 0.1462 - accuracy: 0.9524\n",
      "Epoch 48/90\n",
      "14/14 [==============================] - 0s 3ms/step - loss: 0.1432 - accuracy: 0.9571\n",
      "Epoch 49/90\n",
      "14/14 [==============================] - 0s 3ms/step - loss: 0.1412 - accuracy: 0.9619\n",
      "Epoch 50/90\n",
      "14/14 [==============================] - 0s 3ms/step - loss: 0.1380 - accuracy: 0.9619\n",
      "Epoch 51/90\n",
      "14/14 [==============================] - 0s 3ms/step - loss: 0.1353 - accuracy: 0.9619\n",
      "Epoch 52/90\n",
      "14/14 [==============================] - 0s 3ms/step - loss: 0.1328 - accuracy: 0.9619\n",
      "Epoch 53/90\n",
      "14/14 [==============================] - 0s 5ms/step - loss: 0.1303 - accuracy: 0.9619\n",
      "Epoch 54/90\n",
      "14/14 [==============================] - 0s 3ms/step - loss: 0.1277 - accuracy: 0.9619\n",
      "Epoch 55/90\n",
      "14/14 [==============================] - 0s 3ms/step - loss: 0.1251 - accuracy: 0.9619\n",
      "Epoch 56/90\n",
      "14/14 [==============================] - 0s 3ms/step - loss: 0.1229 - accuracy: 0.9619\n",
      "Epoch 57/90\n",
      "14/14 [==============================] - 0s 2ms/step - loss: 0.1205 - accuracy: 0.9667\n",
      "Epoch 58/90\n",
      "14/14 [==============================] - 0s 3ms/step - loss: 0.1183 - accuracy: 0.9667\n",
      "Epoch 59/90\n",
      "14/14 [==============================] - 0s 4ms/step - loss: 0.1156 - accuracy: 0.9714\n",
      "Epoch 60/90\n",
      "14/14 [==============================] - 0s 6ms/step - loss: 0.1137 - accuracy: 0.9714\n",
      "Epoch 61/90\n",
      "14/14 [==============================] - 0s 6ms/step - loss: 0.1117 - accuracy: 0.9714\n",
      "Epoch 62/90\n",
      "14/14 [==============================] - 0s 3ms/step - loss: 0.1097 - accuracy: 0.9714\n",
      "Epoch 63/90\n",
      "14/14 [==============================] - 0s 5ms/step - loss: 0.1076 - accuracy: 0.9714\n",
      "Epoch 64/90\n",
      "14/14 [==============================] - 0s 5ms/step - loss: 0.1055 - accuracy: 0.9714\n",
      "Epoch 65/90\n",
      "14/14 [==============================] - 0s 6ms/step - loss: 0.1035 - accuracy: 0.9714\n",
      "Epoch 66/90\n",
      "14/14 [==============================] - 0s 4ms/step - loss: 0.1016 - accuracy: 0.9714\n",
      "Epoch 67/90\n",
      "14/14 [==============================] - 0s 3ms/step - loss: 0.0999 - accuracy: 0.9714\n",
      "Epoch 68/90\n",
      "14/14 [==============================] - 0s 4ms/step - loss: 0.0981 - accuracy: 0.9714\n",
      "Epoch 69/90\n",
      "14/14 [==============================] - 0s 4ms/step - loss: 0.0984 - accuracy: 0.9762\n",
      "Epoch 70/90\n",
      "14/14 [==============================] - 0s 4ms/step - loss: 0.0944 - accuracy: 0.9762\n",
      "Epoch 71/90\n",
      "14/14 [==============================] - 0s 3ms/step - loss: 0.0930 - accuracy: 0.9714\n",
      "Epoch 72/90\n",
      "14/14 [==============================] - 0s 3ms/step - loss: 0.0938 - accuracy: 0.9714\n",
      "Epoch 73/90\n",
      "14/14 [==============================] - 0s 11ms/step - loss: 0.0919 - accuracy: 0.9714\n",
      "Epoch 74/90\n",
      "14/14 [==============================] - 0s 6ms/step - loss: 0.0891 - accuracy: 0.9762\n",
      "Epoch 75/90\n",
      "14/14 [==============================] - 0s 3ms/step - loss: 0.0863 - accuracy: 0.9810\n",
      "Epoch 76/90\n",
      "14/14 [==============================] - 0s 3ms/step - loss: 0.0850 - accuracy: 0.9810\n",
      "Epoch 77/90\n",
      "14/14 [==============================] - 0s 4ms/step - loss: 0.0833 - accuracy: 0.9857\n",
      "Epoch 78/90\n",
      "14/14 [==============================] - 0s 3ms/step - loss: 0.0817 - accuracy: 0.9857\n",
      "Epoch 79/90\n",
      "14/14 [==============================] - 0s 4ms/step - loss: 0.0802 - accuracy: 0.9857\n",
      "Epoch 80/90\n",
      "14/14 [==============================] - 0s 4ms/step - loss: 0.0787 - accuracy: 0.9857\n",
      "Epoch 81/90\n",
      "14/14 [==============================] - 0s 3ms/step - loss: 0.0769 - accuracy: 0.9857\n",
      "Epoch 82/90\n",
      "14/14 [==============================] - 0s 10ms/step - loss: 0.0755 - accuracy: 0.9857\n",
      "Epoch 83/90\n",
      "14/14 [==============================] - 0s 11ms/step - loss: 0.0744 - accuracy: 0.9857\n",
      "Epoch 84/90\n",
      "14/14 [==============================] - 0s 7ms/step - loss: 0.0733 - accuracy: 0.9857\n",
      "Epoch 85/90\n",
      "14/14 [==============================] - 0s 8ms/step - loss: 0.0719 - accuracy: 0.9857\n",
      "Epoch 86/90\n",
      "14/14 [==============================] - 0s 7ms/step - loss: 0.0710 - accuracy: 0.9857\n",
      "Epoch 87/90\n",
      "14/14 [==============================] - 0s 6ms/step - loss: 0.0694 - accuracy: 0.9857\n",
      "Epoch 88/90\n",
      "14/14 [==============================] - 0s 10ms/step - loss: 0.0683 - accuracy: 0.9857\n",
      "Epoch 89/90\n",
      "14/14 [==============================] - 0s 5ms/step - loss: 0.0673 - accuracy: 0.9857\n",
      "Epoch 90/90\n",
      "14/14 [==============================] - 0s 5ms/step - loss: 0.0663 - accuracy: 0.9857\n"
     ]
    },
    {
     "data": {
      "text/plain": [
       "<tensorflow.python.keras.callbacks.History at 0x23fbcbb0>"
      ]
     },
     "execution_count": 190,
     "metadata": {},
     "output_type": "execute_result"
    }
   ],
   "source": [
    "model=build_model()\n",
    "model.fit(x_train, y_train, epochs=90, batch_size=16)"
   ]
  },
  {
   "cell_type": "code",
   "execution_count": 191,
   "metadata": {},
   "outputs": [
    {
     "name": "stdout",
     "output_type": "stream",
     "text": [
      "5/5 [==============================] - 0s 2ms/step - loss: 0.1703 - accuracy: 0.9504\n"
     ]
    },
    {
     "data": {
      "text/plain": [
       "[0.17032268643379211, 0.9503546357154846]"
      ]
     },
     "execution_count": 191,
     "metadata": {},
     "output_type": "execute_result"
    }
   ],
   "source": [
    "model.evaluate(x_test, y_test)"
   ]
  },
  {
   "cell_type": "code",
   "execution_count": 192,
   "metadata": {},
   "outputs": [],
   "source": [
    "pred= model.predict(x_test)"
   ]
  },
  {
   "cell_type": "code",
   "execution_count": 194,
   "metadata": {},
   "outputs": [
    {
     "data": {
      "text/plain": [
       "array([9.9079001e-01, 9.9923384e-01, 4.1647434e-01, 3.3337325e-02,\n",
       "       1.2878567e-02, 9.6055031e-01, 3.4645727e-05, 9.6384430e-01,\n",
       "       9.8892081e-01, 3.0426896e-01, 9.2341369e-01, 9.9852180e-01,\n",
       "       4.6610519e-05, 6.3165253e-01, 9.2577100e-01, 2.7516741e-01,\n",
       "       9.0988874e-03, 9.8076802e-01, 9.9335241e-01, 8.2452744e-02,\n",
       "       9.8000979e-01, 9.1106838e-01, 9.6444768e-05, 9.9031103e-01,\n",
       "       9.9232829e-01, 9.8339283e-01, 2.2292972e-02, 9.9109983e-01,\n",
       "       8.4765952e-06, 1.5188876e-01, 9.8764133e-01, 9.9100447e-01,\n",
       "       9.8526257e-01, 9.8693585e-01, 1.6193688e-03, 9.9246061e-01,\n",
       "       9.9109679e-01, 2.9916853e-02, 9.8977375e-01, 9.9214041e-01,\n",
       "       9.6101832e-01, 3.2508343e-02, 4.0152669e-04, 3.0148327e-03,\n",
       "       9.6950543e-01, 9.9259627e-01, 4.6610519e-05, 6.9601834e-03,\n",
       "       9.9404919e-01, 2.0252585e-02, 1.2859412e-05, 9.4636893e-01,\n",
       "       9.7700167e-01, 3.6016132e-07, 1.9885603e-01, 1.5096003e-01,\n",
       "       9.8496795e-01, 9.7888094e-01, 2.1401903e-01, 1.3348460e-04,\n",
       "       9.8052555e-01, 1.8140197e-02, 9.8186862e-01, 9.8445976e-01,\n",
       "       7.6525021e-01, 8.9963126e-01, 9.9523568e-01, 9.8936284e-01,\n",
       "       3.4235432e-05, 5.6871438e-01, 9.9526203e-01, 9.8457354e-01,\n",
       "       7.0462561e-01, 4.4787616e-02, 3.8659869e-07, 7.9947621e-02,\n",
       "       9.7436440e-01, 1.0087043e-02, 9.9027681e-01, 1.2395918e-02,\n",
       "       9.9437433e-01, 9.2282891e-04, 9.5936042e-01, 8.4061182e-01,\n",
       "       9.8613536e-01, 5.8473706e-02, 9.8552346e-01, 9.9079072e-01,\n",
       "       8.6654723e-01, 9.8317260e-01, 9.6517682e-01, 9.9370205e-01,\n",
       "       9.5052886e-01, 8.7652647e-01, 6.8514472e-01, 6.3572693e-01,\n",
       "       3.4084467e-05, 6.7448014e-01, 1.4106989e-02, 9.5019186e-01,\n",
       "       9.7935593e-01, 9.7516382e-01, 9.9160123e-01, 9.9232972e-01,\n",
       "       9.9543834e-01, 8.8258028e-02, 3.5473957e-05, 9.9712127e-01,\n",
       "       3.8168642e-01, 4.8244339e-01, 2.6453280e-01, 9.5906621e-01,\n",
       "       9.9293983e-01, 9.9702811e-01, 9.9169850e-01, 5.5525839e-02,\n",
       "       9.4435203e-01, 4.6657741e-02, 9.8900187e-01, 9.4770396e-01,\n",
       "       9.4571453e-01, 9.7661781e-01, 6.9733769e-02, 3.8464537e-01,\n",
       "       9.8560953e-01, 6.4827681e-01, 9.1606522e-01, 9.8917282e-01,\n",
       "       9.4511712e-01, 9.7695839e-01, 9.8191667e-01, 9.6072268e-01,\n",
       "       9.3720746e-01, 9.8903573e-01, 8.5778427e-01, 1.2472975e-01,\n",
       "       9.9062788e-01, 9.5671058e-01, 1.1329192e-04, 1.8482649e-01,\n",
       "       6.8116927e-01], dtype=float32)"
      ]
     },
     "execution_count": 194,
     "metadata": {},
     "output_type": "execute_result"
    }
   ],
   "source": [
    "pred.reshape(-1)"
   ]
  },
  {
   "cell_type": "code",
   "execution_count": 195,
   "metadata": {},
   "outputs": [
    {
     "data": {
      "text/plain": [
       "array([[1.],\n",
       "       [1.],\n",
       "       [0.],\n",
       "       [0.],\n",
       "       [0.],\n",
       "       [1.],\n",
       "       [0.],\n",
       "       [1.],\n",
       "       [1.],\n",
       "       [0.],\n",
       "       [1.],\n",
       "       [1.],\n",
       "       [0.],\n",
       "       [1.],\n",
       "       [1.],\n",
       "       [0.],\n",
       "       [0.],\n",
       "       [1.],\n",
       "       [1.],\n",
       "       [0.],\n",
       "       [1.],\n",
       "       [1.],\n",
       "       [0.],\n",
       "       [1.],\n",
       "       [1.],\n",
       "       [1.],\n",
       "       [0.],\n",
       "       [1.],\n",
       "       [0.],\n",
       "       [0.],\n",
       "       [1.],\n",
       "       [1.],\n",
       "       [1.],\n",
       "       [1.],\n",
       "       [0.],\n",
       "       [1.],\n",
       "       [1.],\n",
       "       [0.],\n",
       "       [1.],\n",
       "       [1.],\n",
       "       [1.],\n",
       "       [0.],\n",
       "       [0.],\n",
       "       [0.],\n",
       "       [1.],\n",
       "       [1.],\n",
       "       [0.],\n",
       "       [0.],\n",
       "       [1.],\n",
       "       [0.],\n",
       "       [0.],\n",
       "       [1.],\n",
       "       [1.],\n",
       "       [0.],\n",
       "       [0.],\n",
       "       [0.],\n",
       "       [1.],\n",
       "       [1.],\n",
       "       [0.],\n",
       "       [0.],\n",
       "       [1.],\n",
       "       [0.],\n",
       "       [1.],\n",
       "       [1.],\n",
       "       [1.],\n",
       "       [1.],\n",
       "       [1.],\n",
       "       [1.],\n",
       "       [0.],\n",
       "       [1.],\n",
       "       [1.],\n",
       "       [1.],\n",
       "       [1.],\n",
       "       [0.],\n",
       "       [0.],\n",
       "       [0.],\n",
       "       [1.],\n",
       "       [0.],\n",
       "       [1.],\n",
       "       [0.],\n",
       "       [1.],\n",
       "       [0.],\n",
       "       [1.],\n",
       "       [1.],\n",
       "       [1.],\n",
       "       [0.],\n",
       "       [1.],\n",
       "       [1.],\n",
       "       [1.],\n",
       "       [1.],\n",
       "       [1.],\n",
       "       [1.],\n",
       "       [1.],\n",
       "       [1.],\n",
       "       [1.],\n",
       "       [1.],\n",
       "       [0.],\n",
       "       [1.],\n",
       "       [0.],\n",
       "       [1.],\n",
       "       [1.],\n",
       "       [1.],\n",
       "       [1.],\n",
       "       [1.],\n",
       "       [1.],\n",
       "       [0.],\n",
       "       [0.],\n",
       "       [1.],\n",
       "       [0.],\n",
       "       [0.],\n",
       "       [0.],\n",
       "       [1.],\n",
       "       [1.],\n",
       "       [1.],\n",
       "       [1.],\n",
       "       [0.],\n",
       "       [1.],\n",
       "       [0.],\n",
       "       [1.],\n",
       "       [1.],\n",
       "       [1.],\n",
       "       [1.],\n",
       "       [0.],\n",
       "       [0.],\n",
       "       [1.],\n",
       "       [1.],\n",
       "       [1.],\n",
       "       [1.],\n",
       "       [1.],\n",
       "       [1.],\n",
       "       [1.],\n",
       "       [1.],\n",
       "       [1.],\n",
       "       [1.],\n",
       "       [1.],\n",
       "       [0.],\n",
       "       [1.],\n",
       "       [1.],\n",
       "       [0.],\n",
       "       [0.],\n",
       "       [1.]], dtype=float32)"
      ]
     },
     "execution_count": 195,
     "metadata": {},
     "output_type": "execute_result"
    }
   ],
   "source": [
    "pred=np.round(pred)\n",
    "pred"
   ]
  },
  {
   "cell_type": "code",
   "execution_count": 201,
   "metadata": {},
   "outputs": [],
   "source": [
    "evaluate=pd.DataFrame({'Actual': y_test['label']})"
   ]
  },
  {
   "cell_type": "code",
   "execution_count": 202,
   "metadata": {},
   "outputs": [],
   "source": [
    "evaluate['prediction']= pred"
   ]
  },
  {
   "cell_type": "code",
   "execution_count": 203,
   "metadata": {},
   "outputs": [
    {
     "data": {
      "text/html": [
       "<div>\n",
       "<style scoped>\n",
       "    .dataframe tbody tr th:only-of-type {\n",
       "        vertical-align: middle;\n",
       "    }\n",
       "\n",
       "    .dataframe tbody tr th {\n",
       "        vertical-align: top;\n",
       "    }\n",
       "\n",
       "    .dataframe thead th {\n",
       "        text-align: right;\n",
       "    }\n",
       "</style>\n",
       "<table border=\"1\" class=\"dataframe\">\n",
       "  <thead>\n",
       "    <tr style=\"text-align: right;\">\n",
       "      <th></th>\n",
       "      <th>Actual</th>\n",
       "      <th>prediction</th>\n",
       "    </tr>\n",
       "  </thead>\n",
       "  <tbody>\n",
       "    <tr>\n",
       "      <th>6</th>\n",
       "      <td>1</td>\n",
       "      <td>1.0</td>\n",
       "    </tr>\n",
       "    <tr>\n",
       "      <th>52</th>\n",
       "      <td>1</td>\n",
       "      <td>1.0</td>\n",
       "    </tr>\n",
       "    <tr>\n",
       "      <th>114</th>\n",
       "      <td>0</td>\n",
       "      <td>0.0</td>\n",
       "    </tr>\n",
       "    <tr>\n",
       "      <th>45</th>\n",
       "      <td>0</td>\n",
       "      <td>0.0</td>\n",
       "    </tr>\n",
       "    <tr>\n",
       "      <th>106</th>\n",
       "      <td>0</td>\n",
       "      <td>0.0</td>\n",
       "    </tr>\n",
       "    <tr>\n",
       "      <th>...</th>\n",
       "      <td>...</td>\n",
       "      <td>...</td>\n",
       "    </tr>\n",
       "    <tr>\n",
       "      <th>46</th>\n",
       "      <td>1</td>\n",
       "      <td>1.0</td>\n",
       "    </tr>\n",
       "    <tr>\n",
       "      <th>279</th>\n",
       "      <td>1</td>\n",
       "      <td>1.0</td>\n",
       "    </tr>\n",
       "    <tr>\n",
       "      <th>170</th>\n",
       "      <td>0</td>\n",
       "      <td>0.0</td>\n",
       "    </tr>\n",
       "    <tr>\n",
       "      <th>73</th>\n",
       "      <td>0</td>\n",
       "      <td>0.0</td>\n",
       "    </tr>\n",
       "    <tr>\n",
       "      <th>137</th>\n",
       "      <td>1</td>\n",
       "      <td>1.0</td>\n",
       "    </tr>\n",
       "  </tbody>\n",
       "</table>\n",
       "<p>141 rows × 2 columns</p>\n",
       "</div>"
      ],
      "text/plain": [
       "     Actual  prediction\n",
       "6         1         1.0\n",
       "52        1         1.0\n",
       "114       0         0.0\n",
       "45        0         0.0\n",
       "106       0         0.0\n",
       "..      ...         ...\n",
       "46        1         1.0\n",
       "279       1         1.0\n",
       "170       0         0.0\n",
       "73        0         0.0\n",
       "137       1         1.0\n",
       "\n",
       "[141 rows x 2 columns]"
      ]
     },
     "execution_count": 203,
     "metadata": {},
     "output_type": "execute_result"
    }
   ],
   "source": [
    "evaluate"
   ]
  },
  {
   "cell_type": "code",
   "execution_count": 204,
   "metadata": {},
   "outputs": [
    {
     "name": "stdout",
     "output_type": "stream",
     "text": [
      "              precision    recall  f1-score   support\n",
      "\n",
      "           0       1.00      0.88      0.93        57\n",
      "           1       0.92      1.00      0.96        84\n",
      "\n",
      "    accuracy                           0.95       141\n",
      "   macro avg       0.96      0.94      0.95       141\n",
      "weighted avg       0.95      0.95      0.95       141\n",
      "\n"
     ]
    }
   ],
   "source": [
    "from sklearn.metrics import confusion_matrix, classification_report\n",
    "\n",
    "print(classification_report(y_test, pred))"
   ]
  },
  {
   "cell_type": "code",
   "execution_count": null,
   "metadata": {},
   "outputs": [],
   "source": []
  }
 ],
 "metadata": {
  "kernelspec": {
   "display_name": "Python 3",
   "language": "python",
   "name": "python3"
  },
  "language_info": {
   "codemirror_mode": {
    "name": "ipython",
    "version": 3
   },
   "file_extension": ".py",
   "mimetype": "text/x-python",
   "name": "python",
   "nbconvert_exporter": "python",
   "pygments_lexer": "ipython3",
   "version": "3.8.8"
  }
 },
 "nbformat": 4,
 "nbformat_minor": 2
}
